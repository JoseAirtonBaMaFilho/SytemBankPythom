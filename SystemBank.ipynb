{
  "nbformat": 4,
  "nbformat_minor": 0,
  "metadata": {
    "colab": {
      "provenance": [],
      "authorship_tag": "ABX9TyN3dwnd+G13h9u4QE41i5G6",
      "include_colab_link": true
    },
    "kernelspec": {
      "name": "python3",
      "display_name": "Python 3"
    },
    "language_info": {
      "name": "python"
    }
  },
  "cells": [
    {
      "cell_type": "markdown",
      "metadata": {
        "id": "view-in-github",
        "colab_type": "text"
      },
      "source": [
        "<a href=\"https://colab.research.google.com/github/JoseAirtonBaMaFilho/SytemBankPythom/blob/main/SystemBank.ipynb\" target=\"_parent\"><img src=\"https://colab.research.google.com/assets/colab-badge.svg\" alt=\"Open In Colab\"/></a>"
      ]
    },
    {
      "cell_type": "code",
      "execution_count": 9,
      "metadata": {
        "id": "juAAyCvv6z7p"
      },
      "outputs": [],
      "source": [
        "menu = \"\"\"\n",
        "[d] Depósitar\n",
        "[s] Sacar\n",
        "[e] Extrato\n",
        "[q] Sair\n",
        "\n",
        "=> \"\"\""
      ]
    },
    {
      "cell_type": "code",
      "source": [
        "saldo = 0\n",
        "limite = 500\n",
        "extrato = \"\"\n",
        "numero_saques = 0\n",
        "LIMITE_SAQUES = 3"
      ],
      "metadata": {
        "id": "crYfVl6xYEAL"
      },
      "execution_count": 10,
      "outputs": []
    },
    {
      "cell_type": "code",
      "source": [
        "while True:\n",
        "\n",
        "  if opcao = input(menu)\n",
        "\n",
        "    if opcao == \"d\":\n",
        "      valor = float(input(\"Informe o valor do depósito: \"))\n",
        "\n",
        "      if valor > 0:\n",
        "        saldo += valor\n",
        "        extrato += f\"Depósito: R$ {valor: .2f}\\n\"\n",
        "\n",
        "      else:\n",
        "        print(\"Operação falhou! O valor informado é inválido.\")\n",
        "\n",
        "  elif opcao ==\"s\":\n",
        "    valor ="
      ],
      "metadata": {
        "colab": {
          "base_uri": "https://localhost:8080/",
          "height": 106
        },
        "id": "eFV03j18a2mo",
        "outputId": "d1e94a5a-1118-44a7-8f23-4b44fcfc5776"
      },
      "execution_count": 3,
      "outputs": [
        {
          "output_type": "error",
          "ename": "SyntaxError",
          "evalue": "invalid syntax (<ipython-input-3-8782a8ae3a0b>, line 1)",
          "traceback": [
            "\u001b[0;36m  File \u001b[0;32m\"<ipython-input-3-8782a8ae3a0b>\"\u001b[0;36m, line \u001b[0;32m1\u001b[0m\n\u001b[0;31m    => \"\"\u001b[0m\n\u001b[0m    ^\u001b[0m\n\u001b[0;31mSyntaxError\u001b[0m\u001b[0;31m:\u001b[0m invalid syntax\n"
          ]
        }
      ]
    },
    {
      "cell_type": "code",
      "source": [],
      "metadata": {
        "id": "DisNpwA9bFCH"
      },
      "execution_count": null,
      "outputs": []
    }
  ]
}