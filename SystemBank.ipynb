{
  "nbformat": 4,
  "nbformat_minor": 0,
  "metadata": {
    "colab": {
      "provenance": [],
      "authorship_tag": "ABX9TyMrY8Fcr4vCo93cs5eFyJQb",
      "include_colab_link": true
    },
    "kernelspec": {
      "name": "python3",
      "display_name": "Python 3"
    },
    "language_info": {
      "name": "python"
    }
  },
  "cells": [
    {
      "cell_type": "markdown",
      "metadata": {
        "id": "view-in-github",
        "colab_type": "text"
      },
      "source": [
        "<a href=\"https://colab.research.google.com/github/JoseAirtonBaMaFilho/SytemBankPythom/blob/main/SystemBank.ipynb\" target=\"_parent\"><img src=\"https://colab.research.google.com/assets/colab-badge.svg\" alt=\"Open In Colab\"/></a>"
      ]
    },
    {
      "cell_type": "code",
      "execution_count": null,
      "metadata": {
        "id": "juAAyCvv6z7p"
      },
      "outputs": [],
      "source": [
        "menu = \"\"\"\n",
        "[d] Depósitar\n",
        "[s] Sacar\n",
        "[e] Extrato\n",
        "[q] Sair\n",
        "\n",
        "=> \"\"\""
      ]
    },
    {
      "cell_type": "code",
      "source": [
        "saldo = 0\n",
        "limite = 500\n",
        "extrato = \"\"\n",
        "numero_saques = 0\n",
        "LIMITE_SAQUES = 3"
      ],
      "metadata": {
        "id": "crYfVl6xYEAL"
      },
      "execution_count": null,
      "outputs": []
    },
    {
      "cell_type": "code",
      "source": [
        "while True:\n",
        "\n",
        "  opcao = input(menu)\n",
        "\n",
        "  if opcao == \"d\":\n",
        "    valor = float(input(\"Informe o valor do depósito: \"))\n",
        "\n",
        "    if valor > 0:\n",
        "        saldo += valor\n",
        "        extrato += f\"Depósito: R$ {valor: .2f}\\n\"\n",
        "\n",
        "    else:\n",
        "        print(\"Operação falhou! O valor informado é inválido.\")\n",
        "\n",
        "  elif opcao ==\"s\":\n",
        "    valor = float(input(\"informe o valor do saque: \"))\n",
        "\n",
        "    excedeu_saldo = valor > saldo\n",
        "    excedeu_limite = valor > limite\n",
        "    excedeu_saques = numero_saques > LIMITE_SAQUES\n",
        "\n",
        "    if excedeu_saldo:\n",
        "      print(\"Operação falhou! Você não tem saldo suficiente.\")\n",
        "\n",
        "    elif excedeu_limite:\n",
        "      print(\"Operação falhou! O valor do saque excede o limite.\")\n",
        "\n",
        "    elif excedeu_saques:\n",
        "      print(\"Operação falhou! número máximo de saques excedito.\")\n",
        "\n",
        "    elif valor > 0:\n",
        "      saldo -= valor\n",
        "      extrato += f\"Saque: R$ {valor:.2f}\\n\"\n",
        "      numero_saques += 1\n",
        "\n",
        "    else:\n",
        "      print(\"Operação falhou! Digite um valor válido\")\n",
        "\n",
        "  elif opcao == \"e\":\n",
        "    print(\"\\n________________ EXTRATO ________________\")\n",
        "    print(\"Não Foram realizadas movimetações.\" if not extrato else extrato)\n",
        "    print(f\"\\nSaldo: R$ {saldo:.2f}\")\n",
        "    print(\"___________________________________________\")\n",
        "\n",
        "  elif opcao == \"q\":\n",
        "    print(\"\\n=========Obrigado e volte sempre!=========\")\n",
        "    break\n",
        "\n",
        "  else:\n",
        "    print(\"Essa opção que você digitou é inválida, por favor selecione novamente a operação desejada.\")"
      ],
      "metadata": {
        "id": "eFV03j18a2mo"
      },
      "execution_count": null,
      "outputs": []
    },
    {
      "cell_type": "code",
      "source": [],
      "metadata": {
        "id": "DisNpwA9bFCH"
      },
      "execution_count": null,
      "outputs": []
    }
  ]
}